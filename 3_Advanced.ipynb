{
 "cells": [
  {
   "cell_type": "markdown",
   "metadata": {},
   "source": [
    "## more advanced aspects\n",
    "\n",
    "### time resolved MS\n",
    "- peak storage / data storage\n",
    "- 2D storage\n",
    "    - hdf5\n",
    "    - compression\n",
    "- space charge effect\n",
    "- recalibration\n",
    "\n",
    "### 2D\n",
    "- basic principle\n",
    "    - sampling, Nyquist, processing \n",
    "- but\n",
    "    - $S(t_1) \\propto \\sqrt{1+\\cos(\\omega_1 t_1)}$\n",
    "    - Maria puzzle\n",
    "    - FT of $S(t_1)$\n",
    "        - harmonics\n",
    "        - fragmentation optimization\n",
    "    - freq generator continuous phase \n",
    "- difference in F1 and F2\n",
    "    - Nyquists\n",
    "    - band limited\n",
    "- causality in 2D\n",
    "    - hypercomplex algebra.\n",
    "- phasing\n",
    "    - F2 is 2nd order\n",
    "    - F1 is 1st order\n",
    "- NUS\n",
    "    - FISTA -we've seen it\n",
    "\n",
    "-->"
   ]
  },
  {
   "cell_type": "code",
   "execution_count": null,
   "metadata": {},
   "outputs": [],
   "source": []
  }
 ],
 "metadata": {
  "hide_input": false,
  "kernelspec": {
   "display_name": "Python 3",
   "language": "python",
   "name": "python3"
  },
  "language_info": {
   "codemirror_mode": {
    "name": "ipython",
    "version": 3
   },
   "file_extension": ".py",
   "mimetype": "text/x-python",
   "name": "python",
   "nbconvert_exporter": "python",
   "pygments_lexer": "ipython3",
   "version": "3.8.5"
  },
  "varInspector": {
   "cols": {
    "lenName": 16,
    "lenType": 16,
    "lenVar": 40
   },
   "kernels_config": {
    "python": {
     "delete_cmd_postfix": "",
     "delete_cmd_prefix": "del ",
     "library": "var_list.py",
     "varRefreshCmd": "print(var_dic_list())"
    },
    "r": {
     "delete_cmd_postfix": ") ",
     "delete_cmd_prefix": "rm(",
     "library": "var_list.r",
     "varRefreshCmd": "cat(var_dic_list()) "
    }
   },
   "types_to_exclude": [
    "module",
    "function",
    "builtin_function_or_method",
    "instance",
    "_Feature"
   ],
   "window_display": false
  }
 },
 "nbformat": 4,
 "nbformat_minor": 4
}
