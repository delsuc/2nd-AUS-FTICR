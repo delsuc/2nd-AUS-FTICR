{
 "cells": [
  {
   "cell_type": "code",
   "execution_count": 2,
   "metadata": {
    "ExecuteTime": {
     "end_time": "2021-09-29T04:34:27.708403Z",
     "start_time": "2021-09-29T04:34:27.272318Z"
    },
    "slideshow": {
     "slide_type": "skip"
    }
   },
   "outputs": [
    {
     "data": {
      "application/javascript": [
       "IPython.notebook.set_autosave_interval(60000)"
      ]
     },
     "metadata": {},
     "output_type": "display_data"
    },
    {
     "name": "stdout",
     "output_type": "stream",
     "text": [
      "Autosaving every 60 seconds\n"
     ]
    }
   ],
   "source": [
    "%matplotlib inline\n",
    "%autosave 60"
   ]
  },
  {
   "cell_type": "code",
   "execution_count": 3,
   "metadata": {
    "ExecuteTime": {
     "end_time": "2021-09-29T04:34:31.447929Z",
     "start_time": "2021-09-29T04:34:27.709989Z"
    },
    "slideshow": {
     "slide_type": "skip"
    }
   },
   "outputs": [
    {
     "name": "stdout",
     "output_type": "stream",
     "text": [
      "\n",
      "    ========================\n",
      "          SPIKE\n",
      "    ========================\n",
      "    Version     : 0.99.29\n",
      "    Date        : 20-09-2021\n",
      "    Revision Id : 529\n",
      "    ========================\n",
      "*** zoom3D not loaded ***\n",
      "plugins loaded:\n",
      "Fitter,  Linear_prediction,  Peaks,  bcorr,  fastclean,  gaussenh,  rem_ridge,  sane,  sg,  test,  urQRd, \n",
      "plugins loaded:\n",
      "msapmin, \n",
      "\n",
      "spike.plugins.report() for a short description of each plugins\n",
      "spike.plugins.report('module_name') for complete documentation on one plugin\n",
      "plugins loaded:\n",
      "FTMS_calib,  PhaseMS,  diagonal_2DMS, \n",
      "*** PALMA not loaded ***\n",
      "plugins loaded:\n",
      "Bruker_NMR_FT,  Bucketing,  Integrate,  apmin, \n"
     ]
    }
   ],
   "source": [
    "#import spike\n",
    "#from spike.Interactive import INTER as I \n",
    "#I.hidecode(message=\"\")\n",
    "import matplotlib\n",
    "import matplotlib.pyplot as plt\n",
    "from matplotlib.pyplot import scatter, plot, figure, text, title, xlabel, ylabel, subplots\n",
    "import numpy as np\n",
    "from numpy import exp, cos, sin, arctan2, pi, linspace, arange\n",
    "\n",
    "import spike\n",
    "from spike.File import BrukerMS as bkMS\n",
    "\n",
    "from ipywidgets import Button, interactive, interact, FloatSlider, IntSlider\n",
    "import ipywidgets as widgets\n",
    "from IPython.display import display, HTML, Javascript, Markdown, Image\n",
    "\n",
    "matplotlib.style.use(\"fivethirtyeight\")\n",
    "for i in ('font.size','axes.labelsize','legend.fontsize','legend.title_fontsize'):\n",
    "    matplotlib.rcParams[i]=24\n",
    "for i in ('xtick.labelsize', 'ytick.labelsize'):\n",
    "    matplotlib.rcParams[i]=18\n",
    "\n",
    "#matplotlib.style.available"
   ]
  },
  {
   "cell_type": "markdown",
   "metadata": {
    "slideshow": {
     "slide_type": "slide"
    }
   },
   "source": [
    "# 3. more advanced aspects\n",
    "### 2nd-AUS-FTICR\n",
    "*Marc-André Delsuc - Prague 26-30 Sept 2021*\n",
    "\n",
    "\n",
    "This work is licensed under [CC BY-SA 4.0](https://creativecommons.org/licenses/by-sa/4.0/)\n",
    "\n",
    "a developed content of this part can be found on [github.com/delsuc](https://github.com/delsuc/Fourier_Transform/blob/master/Definition_Properties.ipynb)"
   ]
  },
  {
   "cell_type": "markdown",
   "metadata": {
    "slideshow": {
     "slide_type": "slide"
    }
   },
   "source": [
    "# Time resolved MS\n",
    "\n",
    "All the steps presented so far are producing a final spectrum.\n",
    "\n",
    "is outside of the presentation:\n",
    "\n",
    "- peak picking\n",
    "    - detection\n",
    "    - filtering\n",
    "    - centroid fit $\\Rightarrow$ precise position and width estimate\n",
    "- calibration\n",
    "- interpretation ...\n",
    "\n",
    "#### what about Time resolved MS ?\n",
    "problems with\n",
    "\n",
    "- loss of information\n",
    "- artefact cannot be explored\n",
    "- instanteneous variation lost, improved - slower - method, ...)\n",
    "- choices made during processing cannot be revisited\n"
   ]
  },
  {
   "cell_type": "markdown",
   "metadata": {
    "slideshow": {
     "slide_type": "subslide"
    }
   },
   "source": [
    "## One example\n",
    "2 years ago Matthias W. sent me some data-sets from Asphaltene samples\n",
    "\n",
    "I processed them - every thing is normal !\n",
    "\n",
    "![](files/APPI.png)"
   ]
  },
  {
   "cell_type": "markdown",
   "metadata": {
    "slideshow": {
     "slide_type": "subslide"
    }
   },
   "source": [
    "very normal !\n",
    "\n",
    "![](files/APPIz.png)"
   ]
  },
  {
   "cell_type": "markdown",
   "metadata": {
    "slideshow": {
     "slide_type": "subslide"
    }
   },
   "source": [
    "## Really ?\n",
    "\n",
    "looking at the time domain data-set\n",
    "\n",
    "![](files/fidAPPI.png)"
   ]
  },
  {
   "cell_type": "markdown",
   "metadata": {
    "slideshow": {
     "slide_type": "subslide"
    }
   },
   "source": [
    "## Really ?\n",
    "![](files/APPIarte1.png)\n",
    "\n",
    "**FT stability !**"
   ]
  },
  {
   "cell_type": "markdown",
   "metadata": {
    "slideshow": {
     "slide_type": "slide"
    }
   },
   "source": [
    "## Open-Science trend\n",
    "Open Science - Open source softwares - Open data\n",
    "\n",
    "#### save raw / time domain / data \n",
    "as early as possible in the analysis pipeline:\n",
    "\n",
    "- for later (re)-analysis\n",
    "    - eventually with a newer approach, not available at acquisition time\n",
    "- for transverse data-mining\n",
    "- needs to be F.A.I.R.\n",
    "    - **F**indable\n",
    "    - **A**ccessible\n",
    "    - **I**nteroperable\n",
    "    - **R**eusable"
   ]
  },
  {
   "cell_type": "markdown",
   "metadata": {
    "slideshow": {
     "slide_type": "subslide"
    }
   },
   "source": [
    "#### developping every where\n",
    "- Genomic data !\n",
    "- many biological data\n",
    "- official administration data\n",
    "- XRay data (Cambridge database / PDB database)\n",
    "    - similar to MS\n",
    "\n",
    "#### enforced by many provider\n",
    "**in particular within EU-FTICR-MS Network**\n",
    "\n",
    "*But is it feasible ???*"
   ]
  },
  {
   "cell_type": "code",
   "execution_count": 4,
   "metadata": {
    "ExecuteTime": {
     "end_time": "2021-09-29T04:34:31.455739Z",
     "start_time": "2021-09-29T04:34:31.449586Z"
    },
    "slideshow": {
     "slide_type": "skip"
    }
   },
   "outputs": [
    {
     "data": {
      "text/plain": [
       "(1535611.754328803, 42.1875)"
      ]
     },
     "execution_count": 4,
     "metadata": {},
     "output_type": "execute_result"
    }
   ],
   "source": [
    "from scipy.constants import N_A as Avogadro\n",
    "from scipy.constants import e as electron\n",
    "\n",
    "def mztof(MW, Bo, Z=1):\n",
    "    \"\"\"computes frequency in Hz from mass (in amu) and charge in given field \"\"\"\n",
    "    m = MW*1E-3/Avogadro\n",
    "    q = Z*electron\n",
    "    freq = (q*Bo/m)/(2*np.pi)   # f = qB/m\n",
    "    return freq\n",
    "mztof(150, Bo=15), 12*3600/1024"
   ]
  },
  {
   "cell_type": "markdown",
   "metadata": {
    "slideshow": {
     "slide_type": "subslide"
    }
   },
   "source": [
    "## Volume of data to store\n",
    "\n",
    "#### standard pipeline\n",
    "`fid` *(big)* $\\quad \\rightarrow \\quad$ spectrum *(very big)* $\\quad \\rightarrow \\quad$ parameter lists *(smaller)* $\\quad \\rightarrow \\quad$ further analysis *(may grow again)*"
   ]
  },
  {
   "cell_type": "markdown",
   "metadata": {
    "slideshow": {
     "slide_type": "fragment"
    }
   },
   "source": [
    "#### how big ?\n",
    "one example\n",
    "\n",
    "- 15T (or 7T 2XR) - *m/z* 150 $\\approx$ 1.5 MHz $\\Rightarrow$ 3 MHz sampling\n",
    "- 4 bytes per point $\\Rightarrow$ 12 MB per second $\\Rightarrow$ **42 GB per hour**\n",
    "- depends on resolving power - but whatever you you, there is only 3600 seconds per hour !\n",
    "- big ! **but**\n",
    "    - doable\n",
    "    - not *much* bigger than NetFlix ! - and much more informational !!"
   ]
  },
  {
   "cell_type": "markdown",
   "metadata": {
    "slideshow": {
     "slide_type": "subslide"
    }
   },
   "source": [
    "## efficient large data-set storage\n",
    "#### on example\n",
    "- HDF5 storage developped at CERN for fast access to huge data-sets\n",
    "- random access along all axes\n",
    "    - useful in LC-MS / mandatory in 2D-MS\n",
    "- loss-less compression possibilities on the fly\n",
    "    \n",
    "#### compression\n",
    "- spectra are *very* easy to compress efficiently\n",
    "- time domain are more tricky, and usually poorly compressible\n",
    "- there are loss-less compression methods for periodic datasets - not used yet -\n",
    "- only noise is uncompressible"
   ]
  },
  {
   "cell_type": "markdown",
   "metadata": {
    "slideshow": {
     "slide_type": "subslide"
    }
   },
   "source": [
    "## tentative implementation in EU FT-ICR MS network\n",
    "\n",
    "- alternative analysis pipeline independent of manufacturer software, down to peak-list.\n",
    "- possibility to display and analyze data-sets\n",
    "- FAIR **public dataset** deposited and available at [data.eu-fticr-ms.eu/](https://data.eu-fticr-ms.eu/)"
   ]
  },
  {
   "cell_type": "markdown",
   "metadata": {
    "slideshow": {
     "slide_type": "fragment"
    }
   },
   "source": [
    "![](files/datarepo.png)"
   ]
  },
  {
   "cell_type": "markdown",
   "metadata": {
    "slideshow": {
     "slide_type": "slide"
    }
   },
   "source": [
    "# 2D experiments\n",
    "\n",
    "Thematic of the day.\n",
    "\n",
    "Actually, there is a just a few things which are really special in 2D\n",
    "\n"
   ]
  },
  {
   "cell_type": "markdown",
   "metadata": {
    "slideshow": {
     "slide_type": "subslide"
    }
   },
   "source": [
    "# 2D basic principles\n",
    "\n",
    "![](files/seq1.png)\n",
    "![](files/seq2.png)"
   ]
  },
  {
   "cell_type": "markdown",
   "metadata": {
    "slideshow": {
     "slide_type": "subslide"
    }
   },
   "source": [
    "The 3 pulses have different roles\n",
    "- $P_1$ excites ions to a first orbit at a given radius, \n",
    "- $P_2$ similar to $P_1$ stops this first evolution\n",
    "- $P_3$ is the read pulse which generates the signal that will be acquired\n",
    "\n",
    "The 3 periods have very different properties\n",
    "\n",
    "- $t_1$ is a delay, which will be incremented throughout the experiment\n",
    "- $\\tau_m$ is a fixed delay during which fragmentation takes place\n",
    "- $t_2$ is a regular acquisition"
   ]
  },
  {
   "cell_type": "markdown",
   "metadata": {
    "slideshow": {
     "slide_type": "slide"
    }
   },
   "source": [
    "## *t1*\n",
    "$t_1$ is a delay which samples the evolution of the ions between the two pulses $P_1$ and $P_2$\n",
    "\n",
    "- we repeat several time the whole experiment, while incrementing $t_1$\n",
    "- we use a constant increment $\\Delta t_1$ applying Nyquist rule to this period\n",
    "     $$\\Delta t_1 = \\frac 1 {2 F_1^{max}}$$ \n",
    "- the intensition of the fragment ions measure during $t_2$ is modulated by the evolution of the precursor during $t_1$\n",
    "    $$S(t_1) \\propto \\sqrt{1+\\cos(\\omega_1 t_1)}$$"
   ]
  },
  {
   "cell_type": "markdown",
   "metadata": {
    "slideshow": {
     "slide_type": "subslide"
    }
   },
   "source": [
    "## experimental protocol\n",
    "Using a setup with a constant (as constant as possible) source of invariant sample\n",
    "\n",
    "- start with a given $t_1$ (usually close to 0)\n",
    "- repeat many time:\n",
    "    - run the sequence above\n",
    "    - store the resulting `fid`\n",
    "    - increment $t_1$ by $\\Delta t_1$\n",
    "    - redo\n",
    "\n",
    "Then we have a surface $S(t_1, t_2)$ - considered as a big matrix $S_{ij}$\n",
    "\n",
    "- process all the `fid` in $t_2$ :\n",
    "    - center - apodisation - zerofilling - FT\n",
    "- process all the column of the data matrix - doing independently real and imaginary parts\n",
    "    - apodisation - zerofilling - FT\n",
    "    - combine real and imaginary to compute modulus\n"
   ]
  },
  {
   "cell_type": "markdown",
   "metadata": {
    "slideshow": {
     "slide_type": "subslide"
    }
   },
   "source": [
    "## specificities of this *t1* modulation\n",
    "the $S(t_1) \\propto \\sqrt{1+\\cos(\\omega_1 t_1)}$ modulation\n",
    "\n",
    "- is periodic $\\Rightarrow$ FT\n",
    "- is not pure $\\Rightarrow$ strong harmonics\n",
    "- the signal along $t_1$ can be very noisy $\\Rightarrow$ need for a (fast) denoising tool\n",
    "- because of the frequency generator continuous phase, there is an additional frequency in the $t_1$ signal which has to be \"demodulated\"\n"
   ]
  },
  {
   "cell_type": "markdown",
   "metadata": {
    "slideshow": {
     "slide_type": "slide"
    }
   },
   "source": [
    "## One additional remark\n",
    "We have: \n",
    "$\\quad S(t_1, t_2) \\propto \\cos(\\omega_2 t_2) \\sqrt{1+\\cos(\\omega_1 t_1)}$\n",
    "\n",
    "## there 2 ways to do a 2D modulation \n",
    "amplitude modulation : $\\quad S(t_1, t_2) \\propto \\cos(\\omega_2 t_2) \\cos(\\omega_1 t_1)$\n",
    "\n",
    "- this is the classical modulation in image processing (MRI, Xray, ...)\n",
    "\n",
    "phase modulation : $\\quad S(t_1, t_2) \\propto  \\cos(\\omega_2 t_2 + \\omega_1 t_1)$\n",
    "\n",
    "- is specific to spectrometry ( 2D-NMR - 2D-MS - ...)\n",
    "- requires special algebra !"
   ]
  },
  {
   "cell_type": "markdown",
   "metadata": {
    "slideshow": {
     "slide_type": "subslide"
    }
   },
   "source": [
    "## Hypercomplex Algebra\n",
    "you cannot do that in $\\mathbb{C}$, we have \"only\" one phase, one $j$\n",
    " \n",
    "We posit a hypercomplex algebra $\\mathbb{H}$,\n",
    "a 4 dimensionnal, commutative, non-invertible algebra.\n",
    "\n",
    "\\begin{equation}\n",
    "z = a + ib + jc +kd \\\\\n",
    "i^2 = -1 \\quad j^2 = -1 \\quad k^2 = 1 \\\\\n",
    "ij = ji = k \\quad ik = ki = -j \\quad jk = kj = -i\n",
    "\\end{equation}\n",
    "\n",
    "in $\\mathbb{H}$ you can define independent phases: $e^{i \\theta}$ and $e^{j \\phi}$\n",
    "\n",
    "and you can write (for a sub class of the element of $\\mathbb{H}$) :\n",
    "\\begin{equation}\n",
    "z = A e^{i \\theta} e^{j \\phi}\n",
    "\\end{equation}\n",
    "\n",
    "$\\Rightarrow \\quad |z| = \\sqrt{a^2+b^2+c^2+d^2}$\n",
    "\n",
    "$\\Rightarrow \\quad$ phases in F1 and in F2 are independent\n",
    "\n",
    "\n",
    "\n"
   ]
  },
  {
   "cell_type": "markdown",
   "metadata": {
    "slideshow": {
     "slide_type": "subslide"
    }
   },
   "source": [
    "## Absorption mode 2D MS\n",
    "We will use this this mathematics to phase correct both dimensions and generate 2D peaks in absorption mode in both dimensions \n",
    "\n",
    "However one thing is simpler \n",
    "\n",
    "- F2 (horizontal - classical) requires a 2nd order correction\n",
    "- F1 (vertical - indirect) requires a 1st order correction"
   ]
  },
  {
   "cell_type": "markdown",
   "metadata": {
    "ExecuteTime": {
     "end_time": "2021-09-29T04:33:35.431523Z",
     "start_time": "2021-09-29T04:33:35.300777Z"
    },
    "slideshow": {
     "slide_type": "subslide"
    }
   },
   "source": [
    "![](files/phase2D.png)"
   ]
  },
  {
   "cell_type": "markdown",
   "metadata": {
    "slideshow": {
     "slide_type": "subslide"
    }
   },
   "source": [
    "## Non-linear Sampling\n",
    "\n"
   ]
  },
  {
   "cell_type": "markdown",
   "metadata": {
    "slideshow": {
     "slide_type": "subslide"
    }
   },
   "source": [
    "## Many thanks\n",
    "\n",
    "- Christian Rolando\n",
    "- Peter O'Connor\n",
    "- Maria van Agthoven\n",
    "- Kathrin Breuker\n",
    "\n",
    "but also\n",
    "- The CASC4DE team\n",
    "    - Camille Marin; Lionel Chiron; Laura Duciel; Luis Baptista; Anne Briot Dietsch; Do Manh Dung\n",
    "- the IGMBC team\n",
    "    - Bruno Kieffer; Jocelyn Céraline; Celia Deville; Claude Ling; ...\n",
    "    "
   ]
  },
  {
   "cell_type": "markdown",
   "metadata": {
    "slideshow": {
     "slide_type": "subslide"
    }
   },
   "source": [
    "![](files/people.png)"
   ]
  },
  {
   "cell_type": "markdown",
   "metadata": {
    "slideshow": {
     "slide_type": "subslide"
    }
   },
   "source": [
    "<center style=\"font-size: 80px\">Thank you !</center>"
   ]
  },
  {
   "cell_type": "code",
   "execution_count": null,
   "metadata": {},
   "outputs": [],
   "source": []
  }
 ],
 "metadata": {
  "celltoolbar": "Slideshow",
  "hide_input": true,
  "kernelspec": {
   "display_name": "Python 3",
   "language": "python",
   "name": "python3"
  },
  "language_info": {
   "codemirror_mode": {
    "name": "ipython",
    "version": 3
   },
   "file_extension": ".py",
   "mimetype": "text/x-python",
   "name": "python",
   "nbconvert_exporter": "python",
   "pygments_lexer": "ipython3",
   "version": "3.8.5"
  },
  "varInspector": {
   "cols": {
    "lenName": 16,
    "lenType": 16,
    "lenVar": 40
   },
   "kernels_config": {
    "python": {
     "delete_cmd_postfix": "",
     "delete_cmd_prefix": "del ",
     "library": "var_list.py",
     "varRefreshCmd": "print(var_dic_list())"
    },
    "r": {
     "delete_cmd_postfix": ") ",
     "delete_cmd_prefix": "rm(",
     "library": "var_list.r",
     "varRefreshCmd": "cat(var_dic_list()) "
    }
   },
   "types_to_exclude": [
    "module",
    "function",
    "builtin_function_or_method",
    "instance",
    "_Feature"
   ],
   "window_display": false
  }
 },
 "nbformat": 4,
 "nbformat_minor": 4
}
